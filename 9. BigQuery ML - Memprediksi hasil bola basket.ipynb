{
 "cells": [
  {
   "cell_type": "markdown",
   "metadata": {},
   "source": [
    "# Menggunakan BigQuery ML untuk memprediksi hasil bola basket\n",
    "\n",
    "Tutorial ini menggunakan BigQuery ML untuk memprediksi upaya sasaran lapangan tiga poin dalam bola basket. BigQuery ML memungkinkan pengguna untuk membuat dan menjalankan model pembelajaran mesin di BigQuery menggunakan kueri SQL. Tujuannya adalah untuk mendemokratisasikan pembelajaran mesin dengan memungkinkan praktisi SQL untuk membangun model menggunakan alat yang ada dan untuk meningkatkan kecepatan pengembangan dengan menghilangkan kebutuhan akan pergerakan data.\n",
    "\n",
    "* Datasets : https://bigquery.cloud.google.com/dataset/bigquery-public-data:ncaa_basketball\n",
    "\n",
    "## Tujuan\n",
    "\n",
    "* Membuat model Regresi linier menggunakan CREATE MODEL\n",
    "* Menggunakan fungsi ML.EVALUATE untuk mengevaluasi model ML\n",
    "* Menggunakan fungsi ML.PREDICT untuk membuat prediksi menggunakan model ML"
   ]
  },
  {
   "cell_type": "markdown",
   "metadata": {},
   "source": [
    "## 1. Import library\n",
    "\n",
    "Mengimpor pustaka klien BigQuery Python dan menginisialisasi klien. Klien BigQuery digunakan untuk mengirim dan menerima pesan dari BigQuery API."
   ]
  },
  {
   "cell_type": "code",
   "execution_count": 1,
   "metadata": {},
   "outputs": [],
   "source": [
    "from google.cloud import bigquery\n",
    "\n",
    "# Menggunakan kredensial Service Account\n",
    "# client = bigquery.Client.from_service_account_json('key.json')\n",
    "# Jika tidak mendifinisikan kredensial ke dalam variabel client\n",
    "# maka library client akan mencari kredensial dari project yang terhubung sekarang\n",
    "client = bigquery.Client()"
   ]
  },
  {
   "cell_type": "markdown",
   "metadata": {},
   "source": [
    "## 2. Membuat dataset"
   ]
  },
  {
   "cell_type": "code",
   "execution_count": null,
   "metadata": {},
   "outputs": [],
   "source": [
    "dataset = bigquery.Dataset(client.dataset('bqml_tutorial'))\n",
    "dataset.location = 'US'\n",
    "client.create_dataset(dataset)"
   ]
  },
  {
   "cell_type": "markdown",
   "metadata": {},
   "source": [
    "## 3. Generate your training and feature data\n",
    "\n",
    "### Generate the input features (feature engineering)"
   ]
  },
  {
   "cell_type": "code",
   "execution_count": null,
   "metadata": {},
   "outputs": [],
   "source": []
  },
  {
   "cell_type": "markdown",
   "metadata": {},
   "source": [
    "### Generate your training data"
   ]
  },
  {
   "cell_type": "code",
   "execution_count": null,
   "metadata": {},
   "outputs": [],
   "source": []
  },
  {
   "cell_type": "markdown",
   "metadata": {},
   "source": [
    "## 4. Membuat model\n",
    "\n",
    "Selanjutnya, Anda membuat model regresi linier. Model ini digunakan untuk memprediksi upaya sasaran lapangan tiga poin gabungan berdasarkan statistik game sebelumnya. Permintaan SQL standar menggunakan pernyataan `` CREATE MODEL `` untuk membuat model. Meskipun pernyataan `` CREATE MODEL `` dapat membuat dan melatih model Anda, dalam tutorial ini, Anda melatih model secara terpisah."
   ]
  },
  {
   "cell_type": "code",
   "execution_count": 3,
   "metadata": {},
   "outputs": [],
   "source": [
    "%load_ext google.cloud.bigquery"
   ]
  },
  {
   "cell_type": "code",
   "execution_count": 4,
   "metadata": {},
   "outputs": [
    {
     "data": {
      "text/html": [
       "<div>\n",
       "<style scoped>\n",
       "    .dataframe tbody tr th:only-of-type {\n",
       "        vertical-align: middle;\n",
       "    }\n",
       "\n",
       "    .dataframe tbody tr th {\n",
       "        vertical-align: top;\n",
       "    }\n",
       "\n",
       "    .dataframe thead th {\n",
       "        text-align: right;\n",
       "    }\n",
       "</style>\n",
       "<table border=\"1\" class=\"dataframe\">\n",
       "  <thead>\n",
       "    <tr style=\"text-align: right;\">\n",
       "      <th></th>\n",
       "    </tr>\n",
       "  </thead>\n",
       "  <tbody>\n",
       "  </tbody>\n",
       "</table>\n",
       "</div>"
      ],
      "text/plain": [
       "Empty DataFrame\n",
       "Columns: []\n",
       "Index: []"
      ]
     },
     "execution_count": 4,
     "metadata": {},
     "output_type": "execute_result"
    }
   ],
   "source": [
    "%%bigquery\n",
    "CREATE OR REPLACE MODEL bqml_tutorial.ncaa_model OPTIONS(\n",
    "  model_type='linear_reg', max_iteration=50) AS\n",
    "SELECT\n",
    "  * EXCEPT(\n",
    "    game_id, season, scheduled_date,\n",
    "    total_three_points_made,\n",
    "    total_three_points_att),\n",
    "  total_three_points_att as label\n",
    "FROM\n",
    "  bqml_tutorial.wide_games\n",
    "WHERE\n",
    "  # remove the game to predict\n",
    "  game_id != 'f1063e80-23c7-486b-9a5e-faa52beb2d83'"
   ]
  },
  {
   "cell_type": "markdown",
   "metadata": {},
   "source": [
    "## 5. Dapatkan statistik pelatihan"
   ]
  },
  {
   "cell_type": "code",
   "execution_count": 5,
   "metadata": {},
   "outputs": [
    {
     "data": {
      "text/html": [
       "<div>\n",
       "<style scoped>\n",
       "    .dataframe tbody tr th:only-of-type {\n",
       "        vertical-align: middle;\n",
       "    }\n",
       "\n",
       "    .dataframe tbody tr th {\n",
       "        vertical-align: top;\n",
       "    }\n",
       "\n",
       "    .dataframe thead th {\n",
       "        text-align: right;\n",
       "    }\n",
       "</style>\n",
       "<table border=\"1\" class=\"dataframe\">\n",
       "  <thead>\n",
       "    <tr style=\"text-align: right;\">\n",
       "      <th></th>\n",
       "      <th>training_run</th>\n",
       "      <th>iteration</th>\n",
       "      <th>loss</th>\n",
       "      <th>eval_loss</th>\n",
       "      <th>duration_ms</th>\n",
       "      <th>learning_rate</th>\n",
       "    </tr>\n",
       "  </thead>\n",
       "  <tbody>\n",
       "    <tr>\n",
       "      <th>0</th>\n",
       "      <td>0</td>\n",
       "      <td>8</td>\n",
       "      <td>54.285957</td>\n",
       "      <td>125.467233</td>\n",
       "      <td>8515</td>\n",
       "      <td>0.05</td>\n",
       "    </tr>\n",
       "    <tr>\n",
       "      <th>1</th>\n",
       "      <td>0</td>\n",
       "      <td>7</td>\n",
       "      <td>64.075624</td>\n",
       "      <td>125.759724</td>\n",
       "      <td>8886</td>\n",
       "      <td>0.05</td>\n",
       "    </tr>\n",
       "    <tr>\n",
       "      <th>2</th>\n",
       "      <td>0</td>\n",
       "      <td>6</td>\n",
       "      <td>77.713638</td>\n",
       "      <td>151.677391</td>\n",
       "      <td>8981</td>\n",
       "      <td>0.05</td>\n",
       "    </tr>\n",
       "    <tr>\n",
       "      <th>3</th>\n",
       "      <td>0</td>\n",
       "      <td>5</td>\n",
       "      <td>96.864951</td>\n",
       "      <td>154.259379</td>\n",
       "      <td>9236</td>\n",
       "      <td>0.05</td>\n",
       "    </tr>\n",
       "    <tr>\n",
       "      <th>4</th>\n",
       "      <td>0</td>\n",
       "      <td>4</td>\n",
       "      <td>124.012543</td>\n",
       "      <td>202.382607</td>\n",
       "      <td>12472</td>\n",
       "      <td>0.05</td>\n",
       "    </tr>\n",
       "    <tr>\n",
       "      <th>5</th>\n",
       "      <td>0</td>\n",
       "      <td>3</td>\n",
       "      <td>162.991140</td>\n",
       "      <td>212.495831</td>\n",
       "      <td>11464</td>\n",
       "      <td>0.05</td>\n",
       "    </tr>\n",
       "    <tr>\n",
       "      <th>6</th>\n",
       "      <td>0</td>\n",
       "      <td>2</td>\n",
       "      <td>220.158601</td>\n",
       "      <td>305.039517</td>\n",
       "      <td>10190</td>\n",
       "      <td>0.05</td>\n",
       "    </tr>\n",
       "    <tr>\n",
       "      <th>7</th>\n",
       "      <td>0</td>\n",
       "      <td>1</td>\n",
       "      <td>308.408170</td>\n",
       "      <td>341.092925</td>\n",
       "      <td>12136</td>\n",
       "      <td>0.05</td>\n",
       "    </tr>\n",
       "    <tr>\n",
       "      <th>8</th>\n",
       "      <td>0</td>\n",
       "      <td>0</td>\n",
       "      <td>523.584072</td>\n",
       "      <td>609.183833</td>\n",
       "      <td>6435</td>\n",
       "      <td>0.20</td>\n",
       "    </tr>\n",
       "  </tbody>\n",
       "</table>\n",
       "</div>"
      ],
      "text/plain": [
       "   training_run  iteration        loss   eval_loss  duration_ms  learning_rate\n",
       "0             0          8   54.285957  125.467233         8515           0.05\n",
       "1             0          7   64.075624  125.759724         8886           0.05\n",
       "2             0          6   77.713638  151.677391         8981           0.05\n",
       "3             0          5   96.864951  154.259379         9236           0.05\n",
       "4             0          4  124.012543  202.382607        12472           0.05\n",
       "5             0          3  162.991140  212.495831        11464           0.05\n",
       "6             0          2  220.158601  305.039517        10190           0.05\n",
       "7             0          1  308.408170  341.092925        12136           0.05\n",
       "8             0          0  523.584072  609.183833         6435           0.20"
      ]
     },
     "execution_count": 5,
     "metadata": {},
     "output_type": "execute_result"
    }
   ],
   "source": [
    "%%bigquery\n",
    "SELECT\n",
    "  *\n",
    "FROM\n",
    "  ML.TRAINING_INFO(MODEL `bqml_tutorial.ncaa_model`)"
   ]
  },
  {
   "cell_type": "markdown",
   "metadata": {},
   "source": [
    "## 6. Evaluasi model"
   ]
  },
  {
   "cell_type": "code",
   "execution_count": 6,
   "metadata": {},
   "outputs": [
    {
     "data": {
      "text/html": [
       "<div>\n",
       "<style scoped>\n",
       "    .dataframe tbody tr th:only-of-type {\n",
       "        vertical-align: middle;\n",
       "    }\n",
       "\n",
       "    .dataframe tbody tr th {\n",
       "        vertical-align: top;\n",
       "    }\n",
       "\n",
       "    .dataframe thead th {\n",
       "        text-align: right;\n",
       "    }\n",
       "</style>\n",
       "<table border=\"1\" class=\"dataframe\">\n",
       "  <thead>\n",
       "    <tr style=\"text-align: right;\">\n",
       "      <th></th>\n",
       "      <th>mean_absolute_error</th>\n",
       "      <th>mean_squared_error</th>\n",
       "      <th>mean_squared_log_error</th>\n",
       "      <th>median_absolute_error</th>\n",
       "      <th>r2_score</th>\n",
       "      <th>explained_variance</th>\n",
       "    </tr>\n",
       "  </thead>\n",
       "  <tbody>\n",
       "    <tr>\n",
       "      <th>0</th>\n",
       "      <td>6.423198</td>\n",
       "      <td>68.865911</td>\n",
       "      <td>0.066344</td>\n",
       "      <td>5.41769</td>\n",
       "      <td>0.090511</td>\n",
       "      <td>0.423828</td>\n",
       "    </tr>\n",
       "  </tbody>\n",
       "</table>\n",
       "</div>"
      ],
      "text/plain": [
       "   mean_absolute_error  mean_squared_error  mean_squared_log_error  \\\n",
       "0             6.423198           68.865911                0.066344   \n",
       "\n",
       "   median_absolute_error  r2_score  explained_variance  \n",
       "0                5.41769  0.090511            0.423828  "
      ]
     },
     "execution_count": 6,
     "metadata": {},
     "output_type": "execute_result"
    }
   ],
   "source": [
    "%%bigquery\n",
    "WITH eval_table AS (\n",
    "SELECT\n",
    "  *,\n",
    "  total_three_points_att AS label\n",
    "FROM\n",
    "  `bqml_tutorial.wide_games` )\n",
    "SELECT\n",
    "  *\n",
    "FROM\n",
    "  ML.EVALUATE(MODEL `bqml_tutorial.ncaa_model`,\n",
    "    TABLE eval_table)"
   ]
  },
  {
   "cell_type": "markdown",
   "metadata": {},
   "source": [
    "## 7. Gunakan model untuk memprediksi hasil\n",
    "\n",
    "Sekarang setelah Anda mengevaluasi model Anda, langkah berikutnya adalah menggunakan fungsi ML.PREDICT untuk memprediksi upaya total tiga poin tujuan lapangan dalam pertandingan final NCAA 2018: Michigan versus Villanova."
   ]
  },
  {
   "cell_type": "code",
   "execution_count": 7,
   "metadata": {},
   "outputs": [
    {
     "data": {
      "text/html": [
       "<div>\n",
       "<style scoped>\n",
       "    .dataframe tbody tr th:only-of-type {\n",
       "        vertical-align: middle;\n",
       "    }\n",
       "\n",
       "    .dataframe tbody tr th {\n",
       "        vertical-align: top;\n",
       "    }\n",
       "\n",
       "    .dataframe thead th {\n",
       "        text-align: right;\n",
       "    }\n",
       "</style>\n",
       "<table border=\"1\" class=\"dataframe\">\n",
       "  <thead>\n",
       "    <tr style=\"text-align: right;\">\n",
       "      <th></th>\n",
       "      <th>game_id</th>\n",
       "      <th>total_three_points_att</th>\n",
       "      <th>predicted_total_three_points_att</th>\n",
       "    </tr>\n",
       "  </thead>\n",
       "  <tbody>\n",
       "    <tr>\n",
       "      <th>0</th>\n",
       "      <td>f1063e80-23c7-486b-9a5e-faa52beb2d83</td>\n",
       "      <td>50</td>\n",
       "      <td>41.192128</td>\n",
       "    </tr>\n",
       "  </tbody>\n",
       "</table>\n",
       "</div>"
      ],
      "text/plain": [
       "                                game_id  total_three_points_att  \\\n",
       "0  f1063e80-23c7-486b-9a5e-faa52beb2d83                      50   \n",
       "\n",
       "   predicted_total_three_points_att  \n",
       "0                         41.192128  "
      ]
     },
     "execution_count": 7,
     "metadata": {},
     "output_type": "execute_result"
    }
   ],
   "source": [
    "%%bigquery\n",
    "  WITH game_to_predict AS (\n",
    "  SELECT\n",
    "    *\n",
    "  FROM\n",
    "    `bqml_tutorial.wide_games`\n",
    "  WHERE\n",
    "    game_id='f1063e80-23c7-486b-9a5e-faa52beb2d83' )\n",
    "SELECT\n",
    "  truth.game_id AS game_id,\n",
    "  total_three_points_att,\n",
    "  predicted_total_three_points_att\n",
    "FROM (\n",
    "  SELECT\n",
    "    game_id,\n",
    "    predicted_label AS predicted_total_three_points_att\n",
    "  FROM\n",
    "    ML.PREDICT(MODEL `bqml_tutorial.ncaa_model`,\n",
    "      table game_to_predict) ) AS predict\n",
    "JOIN (\n",
    "  SELECT\n",
    "    game_id,\n",
    "    total_three_points_att AS total_three_points_att\n",
    "  FROM\n",
    "    game_to_predict) AS truth\n",
    "ON\n",
    "  predict.game_id = truth.game_id"
   ]
  },
  {
   "cell_type": "markdown",
   "metadata": {},
   "source": [
    "Nilai `` total_three_points_att `` adalah jumlah sebenarnya tujuan lapangan yang terjadi di pertandingan terakhir - 50. Prediksi model adalah 43,41."
   ]
  },
  {
   "cell_type": "code",
   "execution_count": null,
   "metadata": {},
   "outputs": [],
   "source": []
  }
 ],
 "metadata": {
  "kernelspec": {
   "display_name": "Python 3",
   "language": "python",
   "name": "python3"
  },
  "language_info": {
   "codemirror_mode": {
    "name": "ipython",
    "version": 3
   },
   "file_extension": ".py",
   "mimetype": "text/x-python",
   "name": "python",
   "nbconvert_exporter": "python",
   "pygments_lexer": "ipython3",
   "version": "3.6.8"
  }
 },
 "nbformat": 4,
 "nbformat_minor": 2
}
