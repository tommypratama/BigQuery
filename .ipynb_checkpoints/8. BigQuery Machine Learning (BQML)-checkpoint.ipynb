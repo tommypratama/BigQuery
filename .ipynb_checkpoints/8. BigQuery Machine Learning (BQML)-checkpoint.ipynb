{
 "cells": [
  {
   "cell_type": "markdown",
   "metadata": {},
   "source": [
    "# Memulai dengan BigQuery ML\n",
    "\n",
    "BigQuery ML memungkinkan pengguna untuk membuat dan menjalankan model pembelajaran mesin di BigQuery menggunakan kueri SQL. Tujuannya adalah untuk mendemokratisasikan pembelajaran mesin dengan menggunakan SQL untuk membangun model menggunakan alat yang ada dan untuk meningkatkan kecepatan pengembangan dengan menghilangkan kebutuhan akan pergerakan data.\n",
    "\n",
    "Dalam tutorial ini, kita menggunakan contoh dataset sampel Google Analytics dari Google Merchandise Store untuk membuat model yang memprediksi apakah pengunjung situs web akan melakukan transaksi.\n",
    "\n",
    "* Datasets : https://bigquery.cloud.google.com/table/bigquery-public-data:google_analytics_sample.ga_sessions_20170801\n",
    "\n",
    "\n",
    "## Tujuan\n",
    "\n",
    "* Membuat model regresi logistik biner menggunakan `` CREATE MODEL `` pada BigQuery ML\n",
    "* Menggunakan fungsi `` ML.EVALUATE `` untuk mengevaluasi model ML\n",
    "* Menggunakan fungsi `` ML.PREDICT `` untuk membuat prediksi menggunakan model ML\n"
   ]
  },
  {
   "cell_type": "markdown",
   "metadata": {},
   "source": [
    "## 1. Import library\n",
    "\n",
    "Mengimpor pustaka klien BigQuery Python dan menginisialisasi klien. Klien BigQuery digunakan untuk mengirim dan menerima pesan dari BigQuery API."
   ]
  },
  {
   "cell_type": "code",
   "execution_count": 1,
   "metadata": {},
   "outputs": [],
   "source": [
    "from google.cloud import bigquery\n",
    "\n",
    "# Menggunakan kredensial Service Account\n",
    "# client = bigquery.Client.from_service_account_json('key.json')\n",
    "# Jika tidak mendifinisikan kredensial ke dalam variabel client\n",
    "# maka library client akan mencari kredensial dari project yang terhubung sekarang\n",
    "client = bigquery.Client()"
   ]
  },
  {
   "cell_type": "markdown",
   "metadata": {},
   "source": [
    "## 2. Membuat dataset"
   ]
  },
  {
   "cell_type": "code",
   "execution_count": 20,
   "metadata": {},
   "outputs": [],
   "source": [
    "dataset = client.create_dataset('bqml_tutorial')"
   ]
  },
  {
   "cell_type": "markdown",
   "metadata": {},
   "source": [
    "## 3. Membuat model\n",
    "\n",
    "Selanjutnya, kita akan membuat model regresi logistik menggunakan dataset sampel Google Analytics. Model ini digunakan untuk memprediksi apakah pengunjung situs web akan melakukan transaksi. Kueri SQL standar menggunakan `` CREATE MODEL `` untuk membuat dan melatih model.\n",
    "\n",
    "Gunakan **Magic commands**"
   ]
  },
  {
   "cell_type": "code",
   "execution_count": 2,
   "metadata": {},
   "outputs": [],
   "source": [
    "%load_ext google.cloud.bigquery"
   ]
  },
  {
   "cell_type": "markdown",
   "metadata": {},
   "source": [
    "Permintaan ini membutuhkan beberapa menit untuk menyelesaikan. Setelah iterasi pertama selesai, model (sample_model) muncul di panel navigasi dari web UI BigQuery. Karena kueri menggunakan `` CREATE MODEL `` untuk membuat tabel, maka hasil kueri outputnya adalah string kosong."
   ]
  },
  {
   "cell_type": "code",
   "execution_count": 3,
   "metadata": {},
   "outputs": [
    {
     "data": {
      "text/html": [
       "<div>\n",
       "<style scoped>\n",
       "    .dataframe tbody tr th:only-of-type {\n",
       "        vertical-align: middle;\n",
       "    }\n",
       "\n",
       "    .dataframe tbody tr th {\n",
       "        vertical-align: top;\n",
       "    }\n",
       "\n",
       "    .dataframe thead th {\n",
       "        text-align: right;\n",
       "    }\n",
       "</style>\n",
       "<table border=\"1\" class=\"dataframe\">\n",
       "  <thead>\n",
       "    <tr style=\"text-align: right;\">\n",
       "      <th></th>\n",
       "    </tr>\n",
       "  </thead>\n",
       "  <tbody>\n",
       "  </tbody>\n",
       "</table>\n",
       "</div>"
      ],
      "text/plain": [
       "Empty DataFrame\n",
       "Columns: []\n",
       "Index: []"
      ]
     },
     "execution_count": 3,
     "metadata": {},
     "output_type": "execute_result"
    }
   ],
   "source": [
    "%%bigquery\n",
    "CREATE OR REPLACE MODEL `bqml_tutorial.sample_model`\n",
    "OPTIONS(model_type='logistic_reg') AS\n",
    "SELECT\n",
    "  IF(totals.transactions IS NULL, 0, 1) AS label,\n",
    "  IFNULL(device.operatingSystem, \"\") AS os,\n",
    "  device.isMobile AS is_mobile,\n",
    "  IFNULL(geoNetwork.country, \"\") AS country,\n",
    "  IFNULL(totals.pageviews, 0) AS pageviews\n",
    "FROM\n",
    "  `bigquery-public-data.google_analytics_sample.ga_sessions_*`\n",
    "WHERE\n",
    "  _TABLE_SUFFIX BETWEEN '20160801' AND '20170630'"
   ]
  },
  {
   "cell_type": "markdown",
   "metadata": {},
   "source": [
    "## 4. Statistik pelatihan model\n",
    "\n",
    "Algoritma pembelajaran mesin membangun model dengan memeriksa banyak contoh dan berusaha menemukan model yang meminimalkan kerugian. Proses ini disebut minimalisasi risiko empiris.\n",
    "\n",
    "``Loss`` adalah penalti untuk prediksi yang buruk - angka yang menunjukkan seberapa buruk prediksi model terhadap satu contoh. Jika prediksi model sempurna, ``loss`` nya nol; jika tidak, ``loss`` lebih besar. Tujuan dari pelatihan model adalah untuk menemukan satu set bobot yang memiliki ``loss`` rendah, rata-rata, di semua contoh.\n",
    "\n",
    "Untuk melihat statistik pelatihan menggunakan fungsi `` ML.TRAINING_INFO ``"
   ]
  },
  {
   "cell_type": "code",
   "execution_count": 4,
   "metadata": {},
   "outputs": [
    {
     "data": {
      "text/html": [
       "<div>\n",
       "<style scoped>\n",
       "    .dataframe tbody tr th:only-of-type {\n",
       "        vertical-align: middle;\n",
       "    }\n",
       "\n",
       "    .dataframe tbody tr th {\n",
       "        vertical-align: top;\n",
       "    }\n",
       "\n",
       "    .dataframe thead th {\n",
       "        text-align: right;\n",
       "    }\n",
       "</style>\n",
       "<table border=\"1\" class=\"dataframe\">\n",
       "  <thead>\n",
       "    <tr style=\"text-align: right;\">\n",
       "      <th></th>\n",
       "      <th>training_run</th>\n",
       "      <th>iteration</th>\n",
       "      <th>loss</th>\n",
       "      <th>eval_loss</th>\n",
       "      <th>duration_ms</th>\n",
       "      <th>learning_rate</th>\n",
       "    </tr>\n",
       "  </thead>\n",
       "  <tbody>\n",
       "    <tr>\n",
       "      <th>0</th>\n",
       "      <td>0</td>\n",
       "      <td>8</td>\n",
       "      <td>0.043878</td>\n",
       "      <td>0.045448</td>\n",
       "      <td>15869</td>\n",
       "      <td>25.6</td>\n",
       "    </tr>\n",
       "    <tr>\n",
       "      <th>1</th>\n",
       "      <td>0</td>\n",
       "      <td>7</td>\n",
       "      <td>0.044654</td>\n",
       "      <td>0.045502</td>\n",
       "      <td>19143</td>\n",
       "      <td>25.6</td>\n",
       "    </tr>\n",
       "    <tr>\n",
       "      <th>2</th>\n",
       "      <td>0</td>\n",
       "      <td>6</td>\n",
       "      <td>0.047345</td>\n",
       "      <td>0.048277</td>\n",
       "      <td>18088</td>\n",
       "      <td>12.8</td>\n",
       "    </tr>\n",
       "    <tr>\n",
       "      <th>3</th>\n",
       "      <td>0</td>\n",
       "      <td>5</td>\n",
       "      <td>0.053888</td>\n",
       "      <td>0.053340</td>\n",
       "      <td>19395</td>\n",
       "      <td>6.4</td>\n",
       "    </tr>\n",
       "    <tr>\n",
       "      <th>4</th>\n",
       "      <td>0</td>\n",
       "      <td>4</td>\n",
       "      <td>0.067776</td>\n",
       "      <td>0.066409</td>\n",
       "      <td>17558</td>\n",
       "      <td>3.2</td>\n",
       "    </tr>\n",
       "    <tr>\n",
       "      <th>5</th>\n",
       "      <td>0</td>\n",
       "      <td>3</td>\n",
       "      <td>0.097545</td>\n",
       "      <td>0.096206</td>\n",
       "      <td>17100</td>\n",
       "      <td>1.6</td>\n",
       "    </tr>\n",
       "    <tr>\n",
       "      <th>6</th>\n",
       "      <td>0</td>\n",
       "      <td>2</td>\n",
       "      <td>0.169802</td>\n",
       "      <td>0.168851</td>\n",
       "      <td>17087</td>\n",
       "      <td>0.8</td>\n",
       "    </tr>\n",
       "    <tr>\n",
       "      <th>7</th>\n",
       "      <td>0</td>\n",
       "      <td>1</td>\n",
       "      <td>0.320692</td>\n",
       "      <td>0.320175</td>\n",
       "      <td>20018</td>\n",
       "      <td>0.4</td>\n",
       "    </tr>\n",
       "    <tr>\n",
       "      <th>8</th>\n",
       "      <td>0</td>\n",
       "      <td>0</td>\n",
       "      <td>0.521573</td>\n",
       "      <td>0.521380</td>\n",
       "      <td>13433</td>\n",
       "      <td>0.2</td>\n",
       "    </tr>\n",
       "  </tbody>\n",
       "</table>\n",
       "</div>"
      ],
      "text/plain": [
       "   training_run  iteration      loss  eval_loss  duration_ms  learning_rate\n",
       "0             0          8  0.043878   0.045448        15869           25.6\n",
       "1             0          7  0.044654   0.045502        19143           25.6\n",
       "2             0          6  0.047345   0.048277        18088           12.8\n",
       "3             0          5  0.053888   0.053340        19395            6.4\n",
       "4             0          4  0.067776   0.066409        17558            3.2\n",
       "5             0          3  0.097545   0.096206        17100            1.6\n",
       "6             0          2  0.169802   0.168851        17087            0.8\n",
       "7             0          1  0.320692   0.320175        20018            0.4\n",
       "8             0          0  0.521573   0.521380        13433            0.2"
      ]
     },
     "execution_count": 4,
     "metadata": {},
     "output_type": "execute_result"
    }
   ],
   "source": [
    "%%bigquery\n",
    "SELECT\n",
    "  *\n",
    "FROM\n",
    "  ML.TRAINING_INFO(MODEL `bqml_tutorial.sample_model`)"
   ]
  },
  {
   "cell_type": "markdown",
   "metadata": {},
   "source": [
    "Kolom ``loss`` mewakili metrik ``loss`` dihitung setelah iterasi diberikan pada dataset training. Karena kita melakukan regresi logistik, kolom ini adalah log dari ``loss``. kolom **eval_loss** metrik ``loss`` yang sama dihitung pada dataset ketidaksepakatan (data yang diselenggarakan kembali dari pelatihan untuk memvalidasi model)."
   ]
  },
  {
   "cell_type": "markdown",
   "metadata": {},
   "source": [
    "## 5. Evaluasi model \n",
    "\n",
    "Setelah membuat model, selanjutnya mengevaluasi kinerja kalsifikasi menggunakan fungsi `` ML.EVALUATE ``. Kita juga dapat menggunakan fungsi `` ML.ROC_CURVE `` untuk spesifik metrik dari regresi logistik.\n",
    "\n",
    "Klasifikasi adalah salah satu dari serangkaian nilai target yang disebutkan untuk label. Misalnya, menggunakan model klasifikasi biner yang mendeteksi transaksi. Dua kelas adalah nilai-nilai di ``label`` kolom: ``0`` (tidak ada transaksi) dan `` 1 `` (transaksi dilakukan)."
   ]
  },
  {
   "cell_type": "code",
   "execution_count": 5,
   "metadata": {},
   "outputs": [
    {
     "data": {
      "text/html": [
       "<div>\n",
       "<style scoped>\n",
       "    .dataframe tbody tr th:only-of-type {\n",
       "        vertical-align: middle;\n",
       "    }\n",
       "\n",
       "    .dataframe tbody tr th {\n",
       "        vertical-align: top;\n",
       "    }\n",
       "\n",
       "    .dataframe thead th {\n",
       "        text-align: right;\n",
       "    }\n",
       "</style>\n",
       "<table border=\"1\" class=\"dataframe\">\n",
       "  <thead>\n",
       "    <tr style=\"text-align: right;\">\n",
       "      <th></th>\n",
       "      <th>precision</th>\n",
       "      <th>recall</th>\n",
       "      <th>accuracy</th>\n",
       "      <th>f1_score</th>\n",
       "      <th>log_loss</th>\n",
       "      <th>roc_auc</th>\n",
       "    </tr>\n",
       "  </thead>\n",
       "  <tbody>\n",
       "    <tr>\n",
       "      <th>0</th>\n",
       "      <td>0.468504</td>\n",
       "      <td>0.110801</td>\n",
       "      <td>0.985343</td>\n",
       "      <td>0.179217</td>\n",
       "      <td>0.046242</td>\n",
       "      <td>0.982735</td>\n",
       "    </tr>\n",
       "  </tbody>\n",
       "</table>\n",
       "</div>"
      ],
      "text/plain": [
       "   precision    recall  accuracy  f1_score  log_loss   roc_auc\n",
       "0   0.468504  0.110801  0.985343  0.179217  0.046242  0.982735"
      ]
     },
     "execution_count": 5,
     "metadata": {},
     "output_type": "execute_result"
    }
   ],
   "source": [
    "%%bigquery\n",
    "SELECT\n",
    "  *\n",
    "FROM ML.EVALUATE(MODEL `bqml_tutorial.sample_model`, (\n",
    "  SELECT\n",
    "    IF(totals.transactions IS NULL, 0, 1) AS label,\n",
    "    IFNULL(device.operatingSystem, \"\") AS os,\n",
    "    device.isMobile AS is_mobile,\n",
    "    IFNULL(geoNetwork.country, \"\") AS country,\n",
    "    IFNULL(totals.pageviews, 0) AS pageviews\n",
    "  FROM\n",
    "    `bigquery-public-data.google_analytics_sample.ga_sessions_*`\n",
    "  WHERE\n",
    "    _TABLE_SUFFIX BETWEEN '20170701' AND '20170801'))"
   ]
  },
  {
   "cell_type": "markdown",
   "metadata": {},
   "source": [
    "## 6. Menggunakan model untuk memprediksi hasil\n",
    "\n",
    "Setelah mengevaluasi model , langkah selanjutnya adalah menggunakannya untuk memprediksi hasil. Kita menggunakan model untuk memprediksi jumlah transaksi yang dilakukan oleh pengunjung situs web dari masing-masing negara. Dan menggunakannya untuk memprediksi pembelian per pengguna."
   ]
  },
  {
   "cell_type": "code",
   "execution_count": 8,
   "metadata": {},
   "outputs": [
    {
     "name": "stdout",
     "output_type": "stream",
     "text": [
      "Executing query with job ID: 6e5c8396-84c2-45a0-a265-c5ecac02ce81\n",
      "Query executing: 2.46s\n",
      "Query complete after 3.12s\n"
     ]
    }
   ],
   "source": [
    "%%bigquery df --verbose\n",
    "SELECT\n",
    "  country,\n",
    "  SUM(predicted_label) as total_predicted_purchases\n",
    "FROM ML.PREDICT(MODEL `bqml_tutorial.sample_model`, (\n",
    "  SELECT\n",
    "    IFNULL(device.operatingSystem, \"\") AS os,\n",
    "    device.isMobile AS is_mobile,\n",
    "    IFNULL(totals.pageviews, 0) AS pageviews,\n",
    "    IFNULL(geoNetwork.country, \"\") AS country\n",
    "  FROM\n",
    "    `bigquery-public-data.google_analytics_sample.ga_sessions_*`\n",
    "  WHERE\n",
    "    _TABLE_SUFFIX BETWEEN '20170701' AND '20170801'))\n",
    "  GROUP BY country\n",
    "  ORDER BY total_predicted_purchases DESC\n",
    "  LIMIT 10"
   ]
  },
  {
   "cell_type": "code",
   "execution_count": 12,
   "metadata": {},
   "outputs": [
    {
     "data": {
      "text/html": [
       "<div>\n",
       "<style scoped>\n",
       "    .dataframe tbody tr th:only-of-type {\n",
       "        vertical-align: middle;\n",
       "    }\n",
       "\n",
       "    .dataframe tbody tr th {\n",
       "        vertical-align: top;\n",
       "    }\n",
       "\n",
       "    .dataframe thead th {\n",
       "        text-align: right;\n",
       "    }\n",
       "</style>\n",
       "<table border=\"1\" class=\"dataframe\">\n",
       "  <thead>\n",
       "    <tr style=\"text-align: right;\">\n",
       "      <th></th>\n",
       "      <th>country</th>\n",
       "      <th>total_predicted_purchases</th>\n",
       "    </tr>\n",
       "  </thead>\n",
       "  <tbody>\n",
       "    <tr>\n",
       "      <th>0</th>\n",
       "      <td>United States</td>\n",
       "      <td>220</td>\n",
       "    </tr>\n",
       "    <tr>\n",
       "      <th>1</th>\n",
       "      <td>Taiwan</td>\n",
       "      <td>8</td>\n",
       "    </tr>\n",
       "    <tr>\n",
       "      <th>2</th>\n",
       "      <td>Canada</td>\n",
       "      <td>7</td>\n",
       "    </tr>\n",
       "    <tr>\n",
       "      <th>3</th>\n",
       "      <td>Turkey</td>\n",
       "      <td>2</td>\n",
       "    </tr>\n",
       "    <tr>\n",
       "      <th>4</th>\n",
       "      <td>India</td>\n",
       "      <td>2</td>\n",
       "    </tr>\n",
       "    <tr>\n",
       "      <th>5</th>\n",
       "      <td>Japan</td>\n",
       "      <td>2</td>\n",
       "    </tr>\n",
       "    <tr>\n",
       "      <th>6</th>\n",
       "      <td>Indonesia</td>\n",
       "      <td>1</td>\n",
       "    </tr>\n",
       "    <tr>\n",
       "      <th>7</th>\n",
       "      <td>Guyana</td>\n",
       "      <td>1</td>\n",
       "    </tr>\n",
       "    <tr>\n",
       "      <th>8</th>\n",
       "      <td>Australia</td>\n",
       "      <td>1</td>\n",
       "    </tr>\n",
       "    <tr>\n",
       "      <th>9</th>\n",
       "      <td>Thailand</td>\n",
       "      <td>1</td>\n",
       "    </tr>\n",
       "  </tbody>\n",
       "</table>\n",
       "</div>"
      ],
      "text/plain": [
       "         country  total_predicted_purchases\n",
       "0  United States                        220\n",
       "1         Taiwan                          8\n",
       "2         Canada                          7\n",
       "3         Turkey                          2\n",
       "4          India                          2\n",
       "5          Japan                          2\n",
       "6      Indonesia                          1\n",
       "7         Guyana                          1\n",
       "8      Australia                          1\n",
       "9       Thailand                          1"
      ]
     },
     "execution_count": 12,
     "metadata": {},
     "output_type": "execute_result"
    }
   ],
   "source": [
    "df"
   ]
  },
  {
   "cell_type": "code",
   "execution_count": 17,
   "metadata": {},
   "outputs": [],
   "source": [
    "%matplotlib inline"
   ]
  },
  {
   "cell_type": "code",
   "execution_count": 18,
   "metadata": {
    "scrolled": true
   },
   "outputs": [
    {
     "data": {
      "image/png": "[encoded data removed]",
      "text/plain": [
       "<Figure size 720x504 with 1 Axes>"
      ]
     },
     "metadata": {
      "needs_background": "light"
     },
     "output_type": "display_data"
    }
   ],
   "source": [
    "ax = df.plot(kind='bar', x='country', y='total_predicted_purchases', figsize=(10,7))\n",
    "ax.set_title('Prediksi pembelian')\n",
    "ax.set_xlabel('Country')\n",
    "ax.set_ylabel('Jumlah prediksi pembelian');"
   ]
  },
  {
   "cell_type": "markdown",
   "metadata": {},
   "source": [
    "**Sources**\n",
    "* https://github.com/GoogleCloudPlatform/training-data-analyst/blob/master/courses/machine_learning/deepdive/01_bigquery/b_bqml.ipynb"
   ]
  }
 ],
 "metadata": {
  "kernelspec": {
   "display_name": "Python 3",
   "language": "python",
   "name": "python3"
  },
  "language_info": {
   "codemirror_mode": {
    "name": "ipython",
    "version": 3
   },
   "file_extension": ".py",
   "mimetype": "text/x-python",
   "name": "python",
   "nbconvert_exporter": "python",
   "pygments_lexer": "ipython3",
   "version": "3.6.8"
  }
 },
 "nbformat": 4,
 "nbformat_minor": 2
}
