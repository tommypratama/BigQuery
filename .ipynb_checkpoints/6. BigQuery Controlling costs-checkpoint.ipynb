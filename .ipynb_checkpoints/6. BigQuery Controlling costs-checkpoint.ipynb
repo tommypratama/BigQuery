{
 "cells": [
  {
   "cell_type": "markdown",
   "metadata": {},
   "source": [
    "# BigQuery best practices: Mengontrol biaya"
   ]
  },
  {
   "cell_type": "code",
   "execution_count": 1,
   "metadata": {},
   "outputs": [],
   "source": [
    "from google.cloud import bigquery\n",
    "\n",
    "# Jika kita tidak menfinisikan kredensial ke dalam variabel client\n",
    "# maka library client akan mencari kredensial dari project yang terhubung sekarang\n",
    "## client = bigquery.Client()\n",
    "\n",
    "client = bigquery.Client.from_service_account_json('key.json')"
   ]
  },
  {
   "cell_type": "code",
   "execution_count": 7,
   "metadata": {},
   "outputs": [
    {
     "name": "stdout",
     "output_type": "stream",
     "text": [
      "This query will process 65.0 Megabyte.\n"
     ]
    }
   ],
   "source": [
    "job_config = bigquery.QueryJobConfig()\n",
    "job_config.dry_run = True\n",
    "job_config.use_query_cache = False\n",
    "query_job = client.query(\n",
    "    (\n",
    "        \"SELECT name, COUNT(*) as name_count \"\n",
    "        \"FROM `bigquery-public-data.usa_names.usa_1910_2013` \"\n",
    "        \"WHERE state = 'WA' \"\n",
    "        \"GROUP BY name\"\n",
    "    ),\n",
    "    # Lokasi harus cocok dengan dataset yang dirujuk dalam kueri.\n",
    "    location=\"US\",\n",
    "    job_config=job_config,\n",
    ")  # Permintaan API\n",
    "\n",
    "# Permintaan dry run query selesai segera.\n",
    "assert query_job.state == \"DONE\"\n",
    "assert query_job.dry_run\n",
    "\n",
    "print(\"This query will process {} Megabyte.\".format(query_job.total_bytes_processed // 1e+6)) # Konversi ke Megabyte"
   ]
  },
  {
   "cell_type": "code",
   "execution_count": 15,
   "metadata": {},
   "outputs": [
    {
     "name": "stdout",
     "output_type": "stream",
     "text": [
      "This query will process 1437.0 Megabyte.\n",
      "Kueri ini akan ditagih 0.0 Megabyte.\n"
     ]
    }
   ],
   "source": [
    "job_config = bigquery.QueryJobConfig()\n",
    "job_config.dry_run = True\n",
    "job_config.use_query_cache = False\n",
    "\n",
    "sql = \"\"\"\n",
    "    SELECT * \n",
    "    FROM `bigquery-public-data.chicago_crime.crime`\n",
    "\"\"\"\n",
    "\n",
    "# Mulai kueri, melewati konfigurasi tambahan.\n",
    "query_job = client.query(sql, location=\"US\", job_config=job_config)  # Permintaan API - memulai kueri\n",
    "\n",
    "# Permintaan dry run query selesai segera.\n",
    "assert query_job.state == \"DONE\"\n",
    "assert query_job.dry_run\n",
    "\n",
    "print(\"This query will process {} Megabyte.\".format(query_job.total_bytes_processed // 1e+6)) # Konversi ke Megabyte\n",
    "print(\"Kueri ini akan ditagih {} Megabyte.\".format(query_job.total_bytes_billed // 1e+6))"
   ]
  },
  {
   "cell_type": "code",
   "execution_count": 18,
   "metadata": {},
   "outputs": [
    {
     "name": "stdout",
     "output_type": "stream",
     "text": [
      "This query will process 43.0 Gigabyte.\n",
      "Kueri ini akan ditagih 0.0 Gigabyte.\n"
     ]
    }
   ],
   "source": [
    "job_config = bigquery.QueryJobConfig()\n",
    "job_config.dry_run = True\n",
    "job_config.use_query_cache = True\n",
    "\n",
    "sql = \"\"\"\n",
    "    SELECT * \n",
    "    FROM `bigquery-public-data.chicago_taxi_trips.taxi_trips`\n",
    "\"\"\"\n",
    "\n",
    "# Mulai kueri, melewati konfigurasi tambahan.\n",
    "query_job = client.query(sql, location=\"US\", job_config=job_config)  # Permintaan API - memulai kueri\n",
    "\n",
    "# Permintaan dry run query selesai segera.\n",
    "assert query_job.state == \"DONE\"\n",
    "assert query_job.dry_run\n",
    "\n",
    "print(\"This query will process {} Gigabyte.\".format(query_job.total_bytes_processed // 1e+9)) # Konversi ke Megabyte\n",
    "print(\"Kueri ini akan ditagih {} Gigabyte.\".format(query_job.total_bytes_billed // 1e+9))"
   ]
  },
  {
   "cell_type": "code",
   "execution_count": null,
   "metadata": {},
   "outputs": [],
   "source": []
  },
  {
   "cell_type": "code",
   "execution_count": null,
   "metadata": {},
   "outputs": [],
   "source": []
  },
  {
   "cell_type": "markdown",
   "metadata": {},
   "source": [
    "> **Note** : Untuk mengeksekusi config.dry_run url jupyter notebook harus menggunakan ssl "
   ]
  },
  {
   "cell_type": "markdown",
   "metadata": {},
   "source": [
    "**Sources** :\n",
    "* https://cloud.google.com/bigquery/docs/best-practices-costs"
   ]
  },
  {
   "cell_type": "code",
   "execution_count": null,
   "metadata": {},
   "outputs": [],
   "source": []
  }
 ],
 "metadata": {
  "kernelspec": {
   "display_name": "Python 3",
   "language": "python",
   "name": "python3"
  },
  "language_info": {
   "codemirror_mode": {
    "name": "ipython",
    "version": 3
   },
   "file_extension": ".py",
   "mimetype": "text/x-python",
   "name": "python",
   "nbconvert_exporter": "python",
   "pygments_lexer": "ipython3",
   "version": "3.6.8"
  }
 },
 "nbformat": 4,
 "nbformat_minor": 2
}
