{
 "cells": [
  {
   "cell_type": "markdown",
   "metadata": {},
   "source": [
    "# Mengambil data BigQuery sebagai Pandas DataFrame\n",
    "\n",
    "Sebetulnya secara default library Google BigQuery untuk Python semua hasilnya sudah menggunakan DataFrame. Namun library ini lebih mengatur secara eksplisit atau lebih detail untuk mengatur penggunaan DataFrame. Pada versi 0.29.0, Anda dapat menggunakan fungsi to_dataframe() untuk mengambil hasil kueri atau baris tabel sebagai pandas.DataFrame.\n",
    "\n",
    "**Install** :\n",
    "\n",
    "```bash\n",
    "pip install --upgrade google-cloud-bigquery[pandas]\n",
    "```"
   ]
  },
  {
   "cell_type": "code",
   "execution_count": 1,
   "metadata": {},
   "outputs": [],
   "source": [
    "from google.cloud import bigquery\n",
    "\n",
    "# Jika kita tidak menfinisikan kredensial ke dalam variabel client\n",
    "# maka library client akan mencari kredensial dari project yang terhubung sekarang\n",
    "## client = bigquery.Client()\n",
    "\n",
    "client = bigquery.Client.from_service_account_json('key.json')"
   ]
  },
  {
   "cell_type": "markdown",
   "metadata": {},
   "source": [
    "## Kueri Data BigQuery \n",
    "\n",
    "### Mengambil hasil kueri sebagai pandas.DataFrame:"
   ]
  },
  {
   "cell_type": "code",
   "execution_count": 2,
   "metadata": {},
   "outputs": [
    {
     "data": {
      "text/html": [
       "<div>\n",
       "<style scoped>\n",
       "    .dataframe tbody tr th:only-of-type {\n",
       "        vertical-align: middle;\n",
       "    }\n",
       "\n",
       "    .dataframe tbody tr th {\n",
       "        vertical-align: top;\n",
       "    }\n",
       "\n",
       "    .dataframe thead th {\n",
       "        text-align: right;\n",
       "    }\n",
       "</style>\n",
       "<table border=\"1\" class=\"dataframe\">\n",
       "  <thead>\n",
       "    <tr style=\"text-align: right;\">\n",
       "      <th></th>\n",
       "      <th>name</th>\n",
       "      <th>count</th>\n",
       "    </tr>\n",
       "  </thead>\n",
       "  <tbody>\n",
       "    <tr>\n",
       "      <th>0</th>\n",
       "      <td>James</td>\n",
       "      <td>5001762</td>\n",
       "    </tr>\n",
       "    <tr>\n",
       "      <th>1</th>\n",
       "      <td>John</td>\n",
       "      <td>4875934</td>\n",
       "    </tr>\n",
       "    <tr>\n",
       "      <th>2</th>\n",
       "      <td>Robert</td>\n",
       "      <td>4743843</td>\n",
       "    </tr>\n",
       "    <tr>\n",
       "      <th>3</th>\n",
       "      <td>Michael</td>\n",
       "      <td>4354622</td>\n",
       "    </tr>\n",
       "    <tr>\n",
       "      <th>4</th>\n",
       "      <td>William</td>\n",
       "      <td>3886371</td>\n",
       "    </tr>\n",
       "  </tbody>\n",
       "</table>\n",
       "</div>"
      ],
      "text/plain": [
       "      name    count\n",
       "0    James  5001762\n",
       "1     John  4875934\n",
       "2   Robert  4743843\n",
       "3  Michael  4354622\n",
       "4  William  3886371"
      ]
     },
     "execution_count": 2,
     "metadata": {},
     "output_type": "execute_result"
    }
   ],
   "source": [
    "# from google.cloud import bigquery\n",
    "# client = bigquery.Client()\n",
    "\n",
    "sql = \"\"\"\n",
    "    SELECT name, SUM(number) as count\n",
    "    FROM `bigquery-public-data.usa_names.usa_1910_current`\n",
    "    GROUP BY name\n",
    "    ORDER BY count DESC\n",
    "    LIMIT 10\n",
    "\"\"\"\n",
    "\n",
    "df = client.query(sql).to_dataframe()\n",
    "df.head()"
   ]
  },
  {
   "cell_type": "markdown",
   "metadata": {},
   "source": [
    "### Mengambil baris tabel sebagai panda.DataFrame:"
   ]
  },
  {
   "cell_type": "code",
   "execution_count": 22,
   "metadata": {},
   "outputs": [
    {
     "data": {
      "text/html": [
       "<div>\n",
       "<style scoped>\n",
       "    .dataframe tbody tr th:only-of-type {\n",
       "        vertical-align: middle;\n",
       "    }\n",
       "\n",
       "    .dataframe tbody tr th {\n",
       "        vertical-align: top;\n",
       "    }\n",
       "\n",
       "    .dataframe thead th {\n",
       "        text-align: right;\n",
       "    }\n",
       "</style>\n",
       "<table border=\"1\" class=\"dataframe\">\n",
       "  <thead>\n",
       "    <tr style=\"text-align: right;\">\n",
       "      <th></th>\n",
       "      <th>word</th>\n",
       "      <th>word_count</th>\n",
       "      <th>corpus</th>\n",
       "      <th>corpus_date</th>\n",
       "    </tr>\n",
       "  </thead>\n",
       "  <tbody>\n",
       "    <tr>\n",
       "      <th>0</th>\n",
       "      <td>LVII</td>\n",
       "      <td>1</td>\n",
       "      <td>sonnets</td>\n",
       "      <td>0</td>\n",
       "    </tr>\n",
       "    <tr>\n",
       "      <th>1</th>\n",
       "      <td>augurs</td>\n",
       "      <td>1</td>\n",
       "      <td>sonnets</td>\n",
       "      <td>0</td>\n",
       "    </tr>\n",
       "    <tr>\n",
       "      <th>2</th>\n",
       "      <td>dimm'd</td>\n",
       "      <td>1</td>\n",
       "      <td>sonnets</td>\n",
       "      <td>0</td>\n",
       "    </tr>\n",
       "    <tr>\n",
       "      <th>3</th>\n",
       "      <td>plagues</td>\n",
       "      <td>1</td>\n",
       "      <td>sonnets</td>\n",
       "      <td>0</td>\n",
       "    </tr>\n",
       "    <tr>\n",
       "      <th>4</th>\n",
       "      <td>treason</td>\n",
       "      <td>1</td>\n",
       "      <td>sonnets</td>\n",
       "      <td>0</td>\n",
       "    </tr>\n",
       "  </tbody>\n",
       "</table>\n",
       "</div>"
      ],
      "text/plain": [
       "      word  word_count   corpus  corpus_date\n",
       "0     LVII           1  sonnets            0\n",
       "1   augurs           1  sonnets            0\n",
       "2   dimm'd           1  sonnets            0\n",
       "3  plagues           1  sonnets            0\n",
       "4  treason           1  sonnets            0"
      ]
     },
     "execution_count": 22,
     "metadata": {},
     "output_type": "execute_result"
    }
   ],
   "source": [
    "# from google.cloud import bigquery\n",
    "# client = bigquery.Client()\n",
    "\n",
    "dataset_ref = client.dataset(\"samples\", project=\"bigquery-public-data\")\n",
    "table_ref = dataset_ref.table(\"shakespeare\")\n",
    "table = client.get_table(table_ref)\n",
    "\n",
    "df = client.list_rows(table).to_dataframe()\n",
    "df.head()"
   ]
  },
  {
   "cell_type": "markdown",
   "metadata": {},
   "source": [
    "### Memuat DataFrame Pandas ke Tabel BigQuery"
   ]
  },
  {
   "cell_type": "code",
   "execution_count": 4,
   "metadata": {},
   "outputs": [],
   "source": [
    "import pandas\n",
    "\n",
    "dataset_id = 'my_dataset'\n",
    "\n",
    "dataset_ref = client.dataset(dataset_id)\n",
    "table_ref = dataset_ref.table(\"monty_python\")\n",
    "records = [\n",
    "    {\"title\": \"The Meaning of Life\", \"release_year\": 1983},\n",
    "    {\"title\": \"Monty Python and the Holy Grail\", \"release_year\": 1975},\n",
    "    {\"title\": \"Life of Brian\", \"release_year\": 1979},\n",
    "    {\"title\": \"And Now for Something Completely Different\", \"release_year\": 1971},\n",
    "]\n",
    "# Opsional mengatur indeks secara eksplisit.\n",
    "# Jika indeks tidak ditentukan, kolom akan dibuat untuk default\n",
    "# indeks dibuat oleh pandas.\n",
    "index = [\"Q24980\", \"Q25043\", \"Q24953\", \"Q16403\"]\n",
    "dataframe = pandas.DataFrame(records, index=pandas.Index(index, name=\"wikidata_id\"))\n",
    "\n",
    "job = client.load_table_from_dataframe(dataframe, table_ref, location=\"US\")\n",
    "\n",
    "job.result()  # Tunggu tabel load sampai selesai.\n",
    "\n",
    "assert job.state == \"DONE\"\n",
    "table = client.get_table(table_ref)\n",
    "assert table.num_rows == 4"
   ]
  },
  {
   "cell_type": "markdown",
   "metadata": {},
   "source": [
    "> **Note**: Jika terjadi error pada module pyarrow silahkan untuk menginstall conda\n",
    "  ```bash\n",
    "  conda install -c conda-forge pyarrow\n",
    "  ``` "
   ]
  },
  {
   "cell_type": "markdown",
   "metadata": {},
   "source": [
    "### Muat data menggunakan Pandas lalu simpan ke tabel BigQuery"
   ]
  },
  {
   "cell_type": "code",
   "execution_count": 19,
   "metadata": {},
   "outputs": [
    {
     "data": {
      "text/html": [
       "<div>\n",
       "<style scoped>\n",
       "    .dataframe tbody tr th:only-of-type {\n",
       "        vertical-align: middle;\n",
       "    }\n",
       "\n",
       "    .dataframe tbody tr th {\n",
       "        vertical-align: top;\n",
       "    }\n",
       "\n",
       "    .dataframe thead th {\n",
       "        text-align: right;\n",
       "    }\n",
       "</style>\n",
       "<table border=\"1\" class=\"dataframe\">\n",
       "  <thead>\n",
       "    <tr style=\"text-align: right;\">\n",
       "      <th></th>\n",
       "      <th>lang_id</th>\n",
       "      <th>code</th>\n",
       "      <th>name</th>\n",
       "      <th>percent</th>\n",
       "      <th>official</th>\n",
       "    </tr>\n",
       "  </thead>\n",
       "  <tbody>\n",
       "    <tr>\n",
       "      <th>0</th>\n",
       "      <td>1</td>\n",
       "      <td>AFG</td>\n",
       "      <td>Dari</td>\n",
       "      <td>50.0</td>\n",
       "      <td>True</td>\n",
       "    </tr>\n",
       "    <tr>\n",
       "      <th>1</th>\n",
       "      <td>2</td>\n",
       "      <td>AFG</td>\n",
       "      <td>Pashto</td>\n",
       "      <td>35.0</td>\n",
       "      <td>True</td>\n",
       "    </tr>\n",
       "    <tr>\n",
       "      <th>2</th>\n",
       "      <td>3</td>\n",
       "      <td>AFG</td>\n",
       "      <td>Turkic</td>\n",
       "      <td>11.0</td>\n",
       "      <td>False</td>\n",
       "    </tr>\n",
       "    <tr>\n",
       "      <th>3</th>\n",
       "      <td>4</td>\n",
       "      <td>AFG</td>\n",
       "      <td>Other</td>\n",
       "      <td>4.0</td>\n",
       "      <td>False</td>\n",
       "    </tr>\n",
       "    <tr>\n",
       "      <th>4</th>\n",
       "      <td>5</td>\n",
       "      <td>ALB</td>\n",
       "      <td>Albanian</td>\n",
       "      <td>98.8</td>\n",
       "      <td>True</td>\n",
       "    </tr>\n",
       "  </tbody>\n",
       "</table>\n",
       "</div>"
      ],
      "text/plain": [
       "   lang_id code      name  percent  official\n",
       "0        1  AFG      Dari     50.0      True\n",
       "1        2  AFG    Pashto     35.0      True\n",
       "2        3  AFG    Turkic     11.0     False\n",
       "3        4  AFG     Other      4.0     False\n",
       "4        5  ALB  Albanian     98.8      True"
      ]
     },
     "execution_count": 19,
     "metadata": {},
     "output_type": "execute_result"
    }
   ],
   "source": [
    "import pandas as pd\n",
    "\n",
    "df = pd.read_csv('_datasets/languages.csv')\n",
    "df.head()"
   ]
  },
  {
   "cell_type": "code",
   "execution_count": 16,
   "metadata": {},
   "outputs": [],
   "source": [
    "dataset_id = 'my_dataset'\n",
    "\n",
    "dataset_ref = client.dataset(dataset_id)\n",
    "table_ref = dataset_ref.table(\"languages\")\n",
    "\n",
    "df = pd.read_csv('_datasets/languages.csv')\n",
    "\n",
    "job = client.load_table_from_dataframe(df, table_ref, location=\"US\")\n",
    "\n",
    "job.result()  # Tunggu loading tabel sampai selesai\n",
    "\n",
    "assert job.state == \"DONE\""
   ]
  },
  {
   "cell_type": "markdown",
   "metadata": {},
   "source": [
    "## Menggunakan Modul pandas-gbq\n",
    "\n",
    "Modul ini versi community dan sebenarnya tidak ada bedanya dengan library yang versi official. Namun dalam tutorial ini kita hanya akan mencoba perbedaan nya saja. Tetapi saya sarankan untuk menggunakan versi official `` google-cloud-bigquery `` yang di atas sebelumnya. \n",
    "https://cloud.google.com/bigquery/docs/pandas-gbq-migration\n",
    "\n",
    "Install terlebih dahulu library pandas-gbq menggunakan pip :\n",
    "\n",
    "```bash\n",
    "pip install pandas-gbq -U\n",
    "```\n",
    "\n",
    "Muat data dari Google BigQuery menggunakan google-cloud-python.\n",
    "\n",
    "```python\n",
    "pandas_gbq.read_gbq(query, project_id=None, index_col=None, col_order=None, reauth=False, auth_local_webserver=False, dialect=None, location=None, configuration=None, credentials=None, verbose=None, private_key=None)\n",
    "```\n",
    "\n",
    "Tulis DataFrame ke tabel Google BigQuery.\n",
    "\n",
    "```python\n",
    "pandas_gbq.to_gbq(dataframe, destination_table, project_id=None, chunksize=None, reauth=False, if_exists='fail', auth_local_webserver=False, table_schema=None, location=None, progress_bar=True, credentials=None, verbose=None, private_key=None)\n",
    "```"
   ]
  },
  {
   "cell_type": "code",
   "execution_count": 10,
   "metadata": {},
   "outputs": [],
   "source": [
    "import pandas_gbq\n",
    "from google.oauth2 import service_account\n",
    "\n",
    "credentials = service_account.Credentials.from_service_account_file('key.json')\n",
    "pandas_gbq.context.credentials = credentials\n",
    "pandas_gbq.context.project = 'bigquery-sandbox-235419'\n",
    "# Gunakan SQL standar BigQuery, yang sesuai dengan standar SQL 2011\n",
    "pandas_gbq.context.dialect = 'standard'"
   ]
  },
  {
   "cell_type": "code",
   "execution_count": 15,
   "metadata": {},
   "outputs": [
    {
     "data": {
      "text/html": [
       "<div>\n",
       "<style scoped>\n",
       "    .dataframe tbody tr th:only-of-type {\n",
       "        vertical-align: middle;\n",
       "    }\n",
       "\n",
       "    .dataframe tbody tr th {\n",
       "        vertical-align: top;\n",
       "    }\n",
       "\n",
       "    .dataframe thead th {\n",
       "        text-align: right;\n",
       "    }\n",
       "</style>\n",
       "<table border=\"1\" class=\"dataframe\">\n",
       "  <thead>\n",
       "    <tr style=\"text-align: right;\">\n",
       "      <th></th>\n",
       "      <th>name</th>\n",
       "      <th>count</th>\n",
       "    </tr>\n",
       "  </thead>\n",
       "  <tbody>\n",
       "    <tr>\n",
       "      <th>0</th>\n",
       "      <td>James</td>\n",
       "      <td>5001762</td>\n",
       "    </tr>\n",
       "    <tr>\n",
       "      <th>1</th>\n",
       "      <td>John</td>\n",
       "      <td>4875934</td>\n",
       "    </tr>\n",
       "    <tr>\n",
       "      <th>2</th>\n",
       "      <td>Robert</td>\n",
       "      <td>4743843</td>\n",
       "    </tr>\n",
       "    <tr>\n",
       "      <th>3</th>\n",
       "      <td>Michael</td>\n",
       "      <td>4354622</td>\n",
       "    </tr>\n",
       "    <tr>\n",
       "      <th>4</th>\n",
       "      <td>William</td>\n",
       "      <td>3886371</td>\n",
       "    </tr>\n",
       "  </tbody>\n",
       "</table>\n",
       "</div>"
      ],
      "text/plain": [
       "      name    count\n",
       "0    James  5001762\n",
       "1     John  4875934\n",
       "2   Robert  4743843\n",
       "3  Michael  4354622\n",
       "4  William  3886371"
      ]
     },
     "execution_count": 15,
     "metadata": {},
     "output_type": "execute_result"
    }
   ],
   "source": [
    "sql = \"\"\"\n",
    "    SELECT name, SUM(number) as count\n",
    "    FROM `bigquery-public-data.usa_names.usa_1910_current`\n",
    "    GROUP BY name\n",
    "    ORDER BY count DESC\n",
    "\"\"\"\n",
    "\n",
    "data_frame = pandas_gbq.read_gbq(sql)\n",
    "data_frame.head()"
   ]
  },
  {
   "cell_type": "code",
   "execution_count": 17,
   "metadata": {},
   "outputs": [
    {
     "name": "stdout",
     "output_type": "stream",
     "text": [
      "31314\n"
     ]
    }
   ],
   "source": [
    "# Menghitung jumlah baris\n",
    "print(len(data_frame))"
   ]
  },
  {
   "cell_type": "markdown",
   "metadata": {},
   "source": [
    "### Kueri menggunakan Cached"
   ]
  },
  {
   "cell_type": "code",
   "execution_count": 22,
   "metadata": {},
   "outputs": [
    {
     "data": {
      "text/html": [
       "<div>\n",
       "<style scoped>\n",
       "    .dataframe tbody tr th:only-of-type {\n",
       "        vertical-align: middle;\n",
       "    }\n",
       "\n",
       "    .dataframe tbody tr th {\n",
       "        vertical-align: top;\n",
       "    }\n",
       "\n",
       "    .dataframe thead th {\n",
       "        text-align: right;\n",
       "    }\n",
       "</style>\n",
       "<table border=\"1\" class=\"dataframe\">\n",
       "  <thead>\n",
       "    <tr style=\"text-align: right;\">\n",
       "      <th></th>\n",
       "      <th>name</th>\n",
       "      <th>count</th>\n",
       "    </tr>\n",
       "  </thead>\n",
       "  <tbody>\n",
       "    <tr>\n",
       "      <th>0</th>\n",
       "      <td>James</td>\n",
       "      <td>5001762</td>\n",
       "    </tr>\n",
       "    <tr>\n",
       "      <th>1</th>\n",
       "      <td>John</td>\n",
       "      <td>4875934</td>\n",
       "    </tr>\n",
       "    <tr>\n",
       "      <th>2</th>\n",
       "      <td>Robert</td>\n",
       "      <td>4743843</td>\n",
       "    </tr>\n",
       "    <tr>\n",
       "      <th>3</th>\n",
       "      <td>Michael</td>\n",
       "      <td>4354622</td>\n",
       "    </tr>\n",
       "    <tr>\n",
       "      <th>4</th>\n",
       "      <td>William</td>\n",
       "      <td>3886371</td>\n",
       "    </tr>\n",
       "    <tr>\n",
       "      <th>5</th>\n",
       "      <td>Mary</td>\n",
       "      <td>3748377</td>\n",
       "    </tr>\n",
       "    <tr>\n",
       "      <th>6</th>\n",
       "      <td>David</td>\n",
       "      <td>3595923</td>\n",
       "    </tr>\n",
       "    <tr>\n",
       "      <th>7</th>\n",
       "      <td>Richard</td>\n",
       "      <td>2542659</td>\n",
       "    </tr>\n",
       "    <tr>\n",
       "      <th>8</th>\n",
       "      <td>Joseph</td>\n",
       "      <td>2518578</td>\n",
       "    </tr>\n",
       "    <tr>\n",
       "      <th>9</th>\n",
       "      <td>Charles</td>\n",
       "      <td>2273860</td>\n",
       "    </tr>\n",
       "  </tbody>\n",
       "</table>\n",
       "</div>"
      ],
      "text/plain": [
       "      name    count\n",
       "0    James  5001762\n",
       "1     John  4875934\n",
       "2   Robert  4743843\n",
       "3  Michael  4354622\n",
       "4  William  3886371\n",
       "5     Mary  3748377\n",
       "6    David  3595923\n",
       "7  Richard  2542659\n",
       "8   Joseph  2518578\n",
       "9  Charles  2273860"
      ]
     },
     "execution_count": 22,
     "metadata": {},
     "output_type": "execute_result"
    }
   ],
   "source": [
    "# konfigurasi kueri sebagai parameter \n",
    "# Referensi: https://cloud.google.com/bigquery/docs/reference/rest/v2/jobs#configuration.query\n",
    "configuration = {\n",
    "   'query': {\n",
    "     \"useQueryCache\": True\n",
    "   }\n",
    "}\n",
    "\n",
    "sql = \"\"\"\n",
    "    SELECT name, SUM(number) as count\n",
    "    FROM `bigquery-public-data.usa_names.usa_1910_current`\n",
    "    GROUP BY name\n",
    "    ORDER BY count DESC\n",
    "\"\"\"\n",
    "\n",
    "data_frame = pandas_gbq.read_gbq(sql, configuration=configuration)\n",
    "data_frame.head(10)"
   ]
  },
  {
   "cell_type": "markdown",
   "metadata": {},
   "source": [
    "### Menulis DataFrames\n",
    "\n",
    "Asumsikan kita ingin menulis DataFrame bernama `` df `` ke tabel BigQuery menggunakan metode `` to_gbq() `` . Buat terlebih dahulu dataset nya menggunakan perintah berikut ini:"
   ]
  },
  {
   "cell_type": "code",
   "execution_count": 26,
   "metadata": {},
   "outputs": [
    {
     "name": "stdout",
     "output_type": "stream",
     "text": [
      "  my_string  my_int64  my_float64  my_bool1  my_bool2  \\\n",
      "0         a         1         4.0      True     False   \n",
      "1         b         2         5.0     False      True   \n",
      "2         c         3         6.0      True     False   \n",
      "\n",
      "                    my_dates  \n",
      "0 2019-03-25 11:02:52.943525  \n",
      "1 2019-03-26 11:02:52.943525  \n",
      "2 2019-03-27 11:02:52.943525  \n",
      "my_string             object\n",
      "my_int64               int64\n",
      "my_float64           float64\n",
      "my_bool1                bool\n",
      "my_bool2                bool\n",
      "my_dates      datetime64[ns]\n",
      "dtype: object\n"
     ]
    }
   ],
   "source": [
    "import pandas as pd\n",
    "import numpy as np\n",
    "\n",
    "df = pd.DataFrame({'my_string': list('abc'),\n",
    "                   'my_int64': list(range(1, 4)),\n",
    "                   'my_float64': np.arange(4.0, 7.0),\n",
    "                   'my_bool1': [True, False, True],\n",
    "                   'my_bool2': [False, True, False],\n",
    "                   'my_dates': pd.date_range('now', periods=3)})\n",
    "\n",
    "print(df)\n",
    "print(df.dtypes)"
   ]
  },
  {
   "cell_type": "markdown",
   "metadata": {},
   "source": [
    "#### Menulis ke Tabel baru\n",
    "\n",
    "Simpan DataFrame **df** ke tabel baru di BigQuery"
   ]
  },
  {
   "cell_type": "code",
   "execution_count": 29,
   "metadata": {},
   "outputs": [],
   "source": [
    "# Nama projectid anda\n",
    "projectid = \"bigquery-sandbox-235419\"\n",
    "\n",
    "pandas_gbq.to_gbq(df, 'my_dataset.tabel_1', project_id=projectid, progress_bar=True)"
   ]
  },
  {
   "cell_type": "markdown",
   "metadata": {},
   "source": [
    "#### Menulis ke Tabel yang sudah ada\n",
    "\n",
    "Gunakan argumen `` if_exists `` untuk menentukan apakah akan `` 'fail' ``, `` 'replace' `` atau `` 'append' `` jika tabel tujuan sudah ada. Nilai default adalah `` 'fail' `` ."
   ]
  },
  {
   "cell_type": "code",
   "execution_count": 36,
   "metadata": {},
   "outputs": [],
   "source": [
    "# Nama projectid anda\n",
    "projectid = \"bigquery-sandbox-235419\"\n",
    "\n",
    "pandas_gbq.to_gbq(df, 'my_dataset.tabel_1', project_id=projectid, if_exists='replace')"
   ]
  },
  {
   "cell_type": "markdown",
   "metadata": {},
   "source": [
    "**Sources**\n",
    "* https://googleapis.github.io/google-cloud-python/latest/bigquery/usage/pandas.html\n",
    "* https://pandas-gbq.readthedocs.io/en/latest/index.html"
   ]
  },
  {
   "cell_type": "code",
   "execution_count": null,
   "metadata": {},
   "outputs": [],
   "source": []
  }
 ],
 "metadata": {
  "kernelspec": {
   "display_name": "Python 3",
   "language": "python",
   "name": "python3"
  },
  "language_info": {
   "codemirror_mode": {
    "name": "ipython",
    "version": 3
   },
   "file_extension": ".py",
   "mimetype": "text/x-python",
   "name": "python",
   "nbconvert_exporter": "python",
   "pygments_lexer": "ipython3",
   "version": "3.6.8"
  }
 },
 "nbformat": 4,
 "nbformat_minor": 2
}
